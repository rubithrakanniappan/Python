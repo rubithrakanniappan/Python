{
 "cells": [
  {
   "cell_type": "code",
   "execution_count": 1,
   "metadata": {},
   "outputs": [
    {
     "name": "stdout",
     "output_type": "stream",
     "text": [
      "0\n",
      "1\n",
      "2\n",
      "3\n",
      "4\n",
      "5\n",
      "6\n",
      "7\n",
      "8\n",
      "9\n",
      "10\n",
      "11\n",
      "12\n",
      "13\n",
      "14\n",
      "15\n",
      "16\n",
      "17\n",
      "18\n",
      "19\n"
     ]
    }
   ],
   "source": [
    "# print 0 to 20 by using range\n",
    "\n",
    "for num in range(0,20):\n",
    "    print(num) \n"
   ]
  },
  {
   "cell_type": "code",
   "execution_count": 14,
   "metadata": {},
   "outputs": [
    {
     "name": "stdout",
     "output_type": "stream",
     "text": [
      "10 11 12 13 14 15 16 17 18 19 "
     ]
    }
   ],
   "source": [
    "# print range from 10 to 20 \n",
    "\n",
    "for num in range(10,20):\n",
    "    print(num, end=' ')"
   ]
  },
  {
   "cell_type": "code",
   "execution_count": 10,
   "metadata": {},
   "outputs": [
    {
     "name": "stdout",
     "output_type": "stream",
     "text": [
      "[10, 20, 14, 55, 43, 87, 76]\n",
      "Number of item in the List2:\n",
      " 7\n"
     ]
    }
   ],
   "source": [
    "# print the number of items in the list by using 'len'\n",
    "\n",
    "list2 = [10,20,14,55,43,87,76]\n",
    "print(list2)\n",
    "print(\"Number of item in the List2:\\n\",len(list2))\n"
   ]
  },
  {
   "cell_type": "code",
   "execution_count": 15,
   "metadata": {},
   "outputs": [
    {
     "name": "stdout",
     "output_type": "stream",
     "text": [
      "[10, 20, 14, 55, 43, 87, 76]\n",
      "Number of item in the List2:\n",
      "7\n"
     ]
    }
   ],
   "source": [
    "# print the number of items in the list by using 'len'\n",
    "\n",
    "list2 = [10,20,14,55,43,87,76]\n",
    "print(list2)\n",
    "print(\"Number of item in the List2:\")\n",
    "print(len(list2))"
   ]
  },
  {
   "cell_type": "code",
   "execution_count": 16,
   "metadata": {},
   "outputs": [
    {
     "name": "stdout",
     "output_type": "stream",
     "text": [
      "Artificial Intelligence\n",
      "A\n",
      "r\n",
      "t\n",
      "i\n",
      "f\n",
      "i\n",
      "c\n",
      "i\n",
      "a\n",
      "l\n",
      " \n",
      "I\n",
      "n\n",
      "t\n",
      "e\n",
      "l\n",
      "l\n",
      "i\n",
      "g\n",
      "e\n",
      "n\n",
      "c\n",
      "e\n",
      "\n"
     ]
    }
   ],
   "source": [
    "# Display words in Vertical\n",
    "\n",
    "# initializing string\n",
    "Course = \"Artificial Intelligence\"\n",
    "\n",
    "# printing original String\n",
    "print(Course)\n",
    "\n",
    "# using loop to add \"\" after each character\n",
    "res = \"\"\n",
    "for char in Course:\n",
    "    res += char + \"\\n\"\n",
    "\n",
    "# printing result\n",
    "print(\"\" + res)"
   ]
  },
  {
   "cell_type": "code",
   "execution_count": 21,
   "metadata": {},
   "outputs": [
    {
     "name": "stdout",
     "output_type": "stream",
     "text": [
      "Rubithra Kanniappan\n",
      "30\n",
      "IT Employee\n",
      "\n",
      "\n",
      "- Rubithra Kanniappan -\n",
      "- 30 -\n",
      "- IT Employee -\n"
     ]
    }
   ],
   "source": [
    "MyName = input()\n",
    "MyAge = input()\n",
    "MyProfession = input()\n",
    "\n",
    "print(\"\\n\")\n",
    "print(\"-\" , MyName , \"-\")\n",
    "print(\"-\", MyAge, \"-\")\n",
    "print(\"-\", MyProfession, \"-\")"
   ]
  },
  {
   "cell_type": "code",
   "execution_count": 18,
   "metadata": {},
   "outputs": [
    {
     "name": "stdout",
     "output_type": "stream",
     "text": [
      "- Rubithra Kanniappan -\n",
      "- 30 -\n",
      "- IT Employee -\n"
     ]
    }
   ],
   "source": [
    "MyName = input()\n",
    "MyAge = input()\n",
    "MyProfession = input()"
   ]
  },
  {
   "cell_type": "code",
   "execution_count": 22,
   "metadata": {},
   "outputs": [
    {
     "name": "stdout",
     "output_type": "stream",
     "text": [
      "(1, 'Welcome', 2, 'Hope')\n"
     ]
    }
   ],
   "source": [
    "# Creating a Tuple with Mixed Datatype\n",
    "Tuple = (1, 'Welcome', 2, 'Hope')\n",
    "print(Tuple)"
   ]
  },
  {
   "cell_type": "code",
   "execution_count": 23,
   "metadata": {},
   "outputs": [
    {
     "name": "stdout",
     "output_type": "stream",
     "text": [
      "((0, 1, 2, 3), ('python', 'HOPE'))\n"
     ]
    }
   ],
   "source": [
    "# Creating a Tuple with nested tuples\n",
    "Tuple1 = (0, 1, 2, 3)\n",
    "Tuple2 = ('python', 'HOPE')\n",
    "Tuple3 = (Tuple1, Tuple2)\n",
    "print(Tuple3)"
   ]
  },
  {
   "cell_type": "code",
   "execution_count": 24,
   "metadata": {},
   "outputs": [
    {
     "name": "stdout",
     "output_type": "stream",
     "text": [
      "19 is odd\n",
      "25 is odd\n",
      "1 is odd\n"
     ]
    }
   ],
   "source": [
    "# print odd number in the list\n",
    "\n",
    "list = [20, 10, 16, 19, 25, 1, 276, 188]\n",
    " \n",
    "# iterating each number in list\n",
    "for num in list:\n",
    " \n",
    "    # checking condition\n",
    "    if num % 2 != 0:\n",
    "       print(num, \"is odd\")"
   ]
  },
  {
   "cell_type": "code",
   "execution_count": 25,
   "metadata": {},
   "outputs": [
    {
     "name": "stdout",
     "output_type": "stream",
     "text": [
      "20 is odd\n",
      "10 is odd\n",
      "16 is odd\n",
      "276 is odd\n",
      "188 is odd\n"
     ]
    }
   ],
   "source": [
    "# print even number in the list\n",
    "\n",
    "list = [20, 10, 16, 19, 25, 1, 276, 188]\n",
    " \n",
    "# iterating each number in list\n",
    "for num in list:\n",
    " \n",
    "    # checking condition\n",
    "    if num % 2 == 0:\n",
    "       print(num, \"is odd\")"
   ]
  },
  {
   "cell_type": "code",
   "execution_count": null,
   "metadata": {},
   "outputs": [],
   "source": []
  }
 ],
 "metadata": {
  "kernelspec": {
   "display_name": "Python 3",
   "language": "python",
   "name": "python3"
  },
  "language_info": {
   "codemirror_mode": {
    "name": "ipython",
    "version": 3
   },
   "file_extension": ".py",
   "mimetype": "text/x-python",
   "name": "python",
   "nbconvert_exporter": "python",
   "pygments_lexer": "ipython3",
   "version": "3.7.4"
  }
 },
 "nbformat": 4,
 "nbformat_minor": 2
}
