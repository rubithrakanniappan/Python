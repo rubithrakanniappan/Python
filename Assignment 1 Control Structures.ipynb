{
 "cells": [
  {
   "cell_type": "code",
   "execution_count": 1,
   "metadata": {},
   "outputs": [
    {
     "name": "stdout",
     "output_type": "stream",
     "text": [
      "Welcome to Assigment-1\n"
     ]
    }
   ],
   "source": [
    "#Display Print Statement\n",
    "\n",
    "print(\"Welcome to Assigment-1\")"
   ]
  },
  {
   "cell_type": "code",
   "execution_count": 2,
   "metadata": {},
   "outputs": [
    {
     "name": "stdout",
     "output_type": "stream",
     "text": [
      "Num1= 10\n",
      "Num2= 30\n",
      "Add= 40\n"
     ]
    }
   ],
   "source": [
    "#Addition of 2 numbers\n",
    "\n",
    "Num1 = 10\n",
    "Num2 = 30\n",
    "print(\"Num1=\",Num1)\n",
    "print(\"Num2=\",Num2)\n",
    "Add = Num1 + Num2\n",
    "print(\"Add=\",Add)"
   ]
  },
  {
   "cell_type": "code",
   "execution_count": 17,
   "metadata": {},
   "outputs": [
    {
     "name": "stdout",
     "output_type": "stream",
     "text": [
      "Enter the BMI Index=34\n",
      "Very Overweight\n"
     ]
    }
   ],
   "source": [
    "#Body Mass Index\n",
    "BMI = float(input(\"Enter the BMI Index=\"))\n",
    "if(BMI<18.5):\n",
    "          print(\"Under Weight\")\n",
    "elif(18.5<=BMI<=24.9):\n",
    "          print(\"Normal Range\")\n",
    "elif(25.0<=BMI<=29.9):\n",
    "    print(\"Over Weight\")\n",
    "else:\n",
    "    print(\"Very Overweight\")  \n",
    "          "
   ]
  },
  {
   "cell_type": "code",
   "execution_count": 13,
   "metadata": {},
   "outputs": [
    {
     "name": "stdout",
     "output_type": "stream",
     "text": [
      "Enter the BMI Index=46\n",
      "Obese Class III\n"
     ]
    }
   ],
   "source": [
    "#Body Mass Index\n",
    "BMI = float(input(\"Enter the BMI Index=\"))\n",
    "if(BMI<18.5):\n",
    "          print(\"Under Weight\")\n",
    "elif(18.5<=BMI<=24.9):\n",
    "          print(\"Normal Range\")\n",
    "elif(25.0<=BMI<=29.9):\n",
    "          print(\"Over Weight\")\n",
    "elif(30.0<=BMI<=34.9):\n",
    "          print(\"Obese Class I\")\n",
    "elif(35.0<=BMI<=39.9):\n",
    "          print(\"Obses Class II\")\n",
    "else:\n",
    "          print(\"Obese Class III\")\n",
    "          "
   ]
  },
  {
   "cell_type": "code",
   "execution_count": null,
   "metadata": {},
   "outputs": [],
   "source": []
  },
  {
   "cell_type": "code",
   "execution_count": null,
   "metadata": {},
   "outputs": [],
   "source": []
  }
 ],
 "metadata": {
  "kernelspec": {
   "display_name": "Python 3",
   "language": "python",
   "name": "python3"
  },
  "language_info": {
   "codemirror_mode": {
    "name": "ipython",
    "version": 3
   },
   "file_extension": ".py",
   "mimetype": "text/x-python",
   "name": "python",
   "nbconvert_exporter": "python",
   "pygments_lexer": "ipython3",
   "version": "3.7.4"
  }
 },
 "nbformat": 4,
 "nbformat_minor": 2
}
